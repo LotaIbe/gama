{
 "cells": [
  {
   "cell_type": "code",
   "execution_count": 70,
   "metadata": {},
   "outputs": [
    {
     "name": "stdout",
     "output_type": "stream",
     "text": [
      "0     AutoML\n",
      "1     AutoML\n",
      "2     AutoML\n",
      "3     AutoML\n",
      "4     AutoML\n",
      "5      Store\n",
      "6      Store\n",
      "7      Store\n",
      "8      Store\n",
      "9      Store\n",
      "10     Store\n",
      "11     Store\n",
      "12     Store\n",
      "13     Store\n",
      "14     Store\n",
      "15     Store\n",
      "16     Store\n",
      "17     Store\n",
      "18     Store\n",
      "19     Store\n",
      "20     Store\n",
      "21     Store\n",
      "Name: Model update, dtype: object\n",
      "0     AutoML\n",
      "1     AutoML\n",
      "2     AutoML\n",
      "3     AutoML\n",
      "4     AutoML\n",
      "5      Store\n",
      "6      Store\n",
      "7      Store\n",
      "8      Store\n",
      "9      Store\n",
      "10     Store\n",
      "11     Store\n",
      "12     Store\n",
      "13     Store\n",
      "14     Store\n",
      "15     Store\n",
      "16     Store\n",
      "17     Store\n",
      "18     Store\n",
      "19     Store\n",
      "20     Store\n",
      "21     Store\n",
      "22     Store\n",
      "23     Store\n",
      "Name: Model update, dtype: object\n",
      "0     AutoML\n",
      "1     AutoML\n",
      "2     AutoML\n",
      "3     AutoML\n",
      "4     AutoML\n",
      "5      Store\n",
      "6      Store\n",
      "7      Store\n",
      "8      Store\n",
      "9      Store\n",
      "10     Store\n",
      "11     Store\n",
      "12     Store\n",
      "13     Store\n",
      "14     Store\n",
      "15     Store\n",
      "16     Store\n",
      "17     Store\n",
      "18     Store\n",
      "19     Store\n",
      "20     Store\n",
      "21     Store\n",
      "22     Store\n",
      "Name: Model update, dtype: object\n"
     ]
    },
    {
     "name": "stderr",
     "output_type": "stream",
     "text": [
      "/home/bcelik/miniconda3/lib/python3.7/site-packages/ipykernel_launcher.py:51: SettingWithCopyWarning: \n",
      "A value is trying to be set on a copy of a slice from a DataFrame.\n",
      "Try using .loc[row_indexer,col_indexer] = value instead\n",
      "\n",
      "See the caveats in the documentation: https://pandas.pydata.org/pandas-docs/stable/user_guide/indexing.html#returning-a-view-versus-a-copy\n",
      "/home/bcelik/miniconda3/lib/python3.7/site-packages/ipykernel_launcher.py:62: SettingWithCopyWarning: \n",
      "A value is trying to be set on a copy of a slice from a DataFrame.\n",
      "Try using .loc[row_indexer,col_indexer] = value instead\n",
      "\n",
      "See the caveats in the documentation: https://pandas.pydata.org/pandas-docs/stable/user_guide/indexing.html#returning-a-view-versus-a-copy\n",
      "/home/bcelik/miniconda3/lib/python3.7/site-packages/ipykernel_launcher.py:64: SettingWithCopyWarning: \n",
      "A value is trying to be set on a copy of a slice from a DataFrame.\n",
      "Try using .loc[row_indexer,col_indexer] = value instead\n",
      "\n",
      "See the caveats in the documentation: https://pandas.pydata.org/pandas-docs/stable/user_guide/indexing.html#returning-a-view-versus-a-copy\n",
      "/home/bcelik/miniconda3/lib/python3.7/site-packages/pandas/core/generic.py:6245: SettingWithCopyWarning: \n",
      "A value is trying to be set on a copy of a slice from a DataFrame\n",
      "\n",
      "See the caveats in the documentation: https://pandas.pydata.org/pandas-docs/stable/user_guide/indexing.html#returning-a-view-versus-a-copy\n",
      "  self._update_inplace(new_data)\n"
     ]
    }
   ],
   "source": [
    "\n",
    "import pandas as pd\n",
    "import matplotlib.pyplot as plt\n",
    "import os\n",
    "import numpy as np\n",
    "\n",
    "# read the file into a list of lines and print to separate files for different outputs\n",
    "\n",
    "link_to_files = \"results/\"\n",
    "for d in [4,5,6]:\n",
    "    for version in [\"basic\", \"ensemble\", \"modelstore\"]:\n",
    "        with open(link_to_files+\"results_\"+version+\"_\"+str(d)+\".txt\",'r') as f:\n",
    "            lines = f.read().split(\"\\n\")\n",
    "        output_file_perf = open(link_to_files+version+\"/Performance_Output_\"+ str(d)+\".txt\", \"w\")\n",
    "        output_file_retrainings = open(link_to_files+version+\"/Retrainings_Output_\"+ str(d)+\".txt\", \"w\")\n",
    "        output_file_update = open(link_to_files+version+\"/Update_Output_\"+ str(d)+\".txt\", \"w\")\n",
    "\n",
    "\n",
    "        word_perf = 'Test batch'\n",
    "        word_drift = 'Change detected'\n",
    "        word_nondrift = 'No drift but'\n",
    "        word_update = 'Online model is updated'\n",
    "\n",
    "        # iterate over lines, and print out line numbers which contain the word of interest.\n",
    "        for j,line in enumerate(lines):\n",
    "            if word_perf in line: # or word in line.split() to search for full word\n",
    "                print(\"{}\".format(line), file=output_file_perf)\n",
    "            if word_drift in line:\n",
    "                print(\"{}\".format(line), file=output_file_retrainings)\n",
    "            if word_update in line:\n",
    "                print(\"{}\".format(line), file=output_file_update)\n",
    "            if word_nondrift in line:\n",
    "                print(\"{}\".format(line), file=output_file_retrainings)\n",
    "\n",
    "\n",
    "        output_file_perf.close()\n",
    "        output_file_retrainings.close()\n",
    "        output_file_update.close()\n",
    "\n",
    "#Read data from the output files\n",
    "# Get test scores and batch numbers\n",
    "results={}\n",
    "retrainings={}\n",
    "for d in [4, 5, 6]:  # data streams\n",
    "    results[\"AutOL_Data_\" + str(d)]={}\n",
    "    retrainings[\"AutOL_Data_\" + str(d)] = {}\n",
    "    for version in [\"basic\", \"ensemble\", \"modelstore\"]:\n",
    "        #Get performance\n",
    "        read_perf = pd.read_table(link_to_files+version+\"/Performance_Output_\"+ str(d)+\".txt\", header=None, sep=' ')\n",
    "        results[\"AutOL_Data_\" + str(d)][version] = (read_perf.iloc[:, [3, 6]])\n",
    "        results[\"AutOL_Data_\" + str(d)][version].columns = ['Batch number', 'Test score']\n",
    "        results[\"AutOL_Data_\" + str(d)][version]['Test score'] = results[\"AutOL_Data_\" + str(d)][version]['Test score'].str.rstrip('%').astype('float') / 100.0\n",
    "\n",
    "        #Get retraining points and types - No : no drift training point, Change: drift training point\n",
    "        if os.path.getsize(link_to_files+version+\"/Retrainings_Output_\"+ str(d)+\".txt\") > 0:\n",
    "            read_retraining = pd.read_table(link_to_files+version+\"/Retrainings_Output_\"+ str(d)+\".txt\", header=None, sep=' ')\n",
    "            retrainings[\"AutOL_Data_\" + str(d)][version] = read_retraining.iloc[:, [5,0]]\n",
    "            retrainings[\"AutOL_Data_\" + str(d)][version].columns = ['Batch number', 'Type']\n",
    "\n",
    "        #Get model switch to ensemble/model store or AutOL output\n",
    "        if version != \"basic\" and os.path.getsize(link_to_files+version+\"/Retrainings_Output_\"+ str(d)+\".txt\") > 0:\n",
    "            read_update = pd.read_table(link_to_files+version+\"/Update_Output_\"+ str(d)+\".txt\", header=None, sep=' ', names=list(range(8)))\n",
    "            retrainings[\"AutOL_Data_\" + str(d)][version]['Model update'] = read_update.iloc[:, [6]]\n",
    "            if version == \"modelstore\":\n",
    "                retrainings[\"AutOL_Data_\" + str(d)][version]['Model update'] = retrainings[\"AutOL_Data_\" + str(d)][version]['Model update'].shift(5)\n",
    "                retrainings[\"AutOL_Data_\" + str(d)][version]['Model update'].fillna(\"AutoML\", inplace=True)\n",
    "                retrainings[\"AutOL_Data_\" + str(d)][version].reset_index(drop=True, inplace=True)\n",
    "                print(retrainings[\"AutOL_Data_\" + str(d)][version]['Model update'])\n"
   ]
  },
  {
   "cell_type": "code",
   "execution_count": 71,
   "metadata": {},
   "outputs": [
    {
     "ename": "NameError",
     "evalue": "name 'make_marker_array' is not defined",
     "output_type": "error",
     "traceback": [
      "\u001b[0;31m---------------------------------------------------------------------------\u001b[0m",
      "\u001b[0;31mNameError\u001b[0m                                 Traceback (most recent call last)",
      "\u001b[0;32m<ipython-input-71-fa05b73f82b6>\u001b[0m in \u001b[0;36m<module>\u001b[0;34m\u001b[0m\n\u001b[1;32m     42\u001b[0m     \u001b[0ma\u001b[0m \u001b[0;34m=\u001b[0m \u001b[0mretrainings\u001b[0m\u001b[0;34m[\u001b[0m\u001b[0;34m'AutOL_Data_'\u001b[0m\u001b[0;34m+\u001b[0m\u001b[0mstr\u001b[0m\u001b[0;34m(\u001b[0m\u001b[0md\u001b[0m\u001b[0;34m)\u001b[0m\u001b[0;34m]\u001b[0m\u001b[0;34m\u001b[0m\u001b[0;34m\u001b[0m\u001b[0m\n\u001b[1;32m     43\u001b[0m     \u001b[0me\u001b[0m \u001b[0;34m=\u001b[0m \u001b[0mresults\u001b[0m\u001b[0;34m[\u001b[0m\u001b[0;34m\"AutOL_Data_\"\u001b[0m \u001b[0;34m+\u001b[0m \u001b[0mstr\u001b[0m\u001b[0;34m(\u001b[0m\u001b[0md\u001b[0m\u001b[0;34m)\u001b[0m\u001b[0;34m]\u001b[0m\u001b[0;34m[\u001b[0m\u001b[0;34m'basic'\u001b[0m\u001b[0;34m]\u001b[0m\u001b[0;34m[\u001b[0m\u001b[0;34m'Batch number'\u001b[0m\u001b[0;34m]\u001b[0m\u001b[0;34m\u001b[0m\u001b[0;34m\u001b[0m\u001b[0m\n\u001b[0;32m---> 44\u001b[0;31m     \u001b[0mmarkonb\u001b[0m \u001b[0;34m=\u001b[0m \u001b[0mmake_marker_array\u001b[0m\u001b[0;34m(\u001b[0m\u001b[0ma\u001b[0m\u001b[0;34m,\u001b[0m\u001b[0me\u001b[0m\u001b[0;34m,\u001b[0m\u001b[0;34m'basic'\u001b[0m\u001b[0;34m)\u001b[0m\u001b[0;34m\u001b[0m\u001b[0;34m\u001b[0m\u001b[0m\n\u001b[0m\u001b[1;32m     45\u001b[0m     \u001b[0mmarkone\u001b[0m \u001b[0;34m=\u001b[0m \u001b[0mmake_marker_array\u001b[0m\u001b[0;34m(\u001b[0m\u001b[0ma\u001b[0m\u001b[0;34m,\u001b[0m\u001b[0me\u001b[0m\u001b[0;34m,\u001b[0m\u001b[0;34m'ensemble'\u001b[0m\u001b[0;34m)\u001b[0m\u001b[0;34m\u001b[0m\u001b[0;34m\u001b[0m\u001b[0m\n\u001b[1;32m     46\u001b[0m     \u001b[0mmarkonm\u001b[0m \u001b[0;34m=\u001b[0m \u001b[0mmake_marker_array\u001b[0m\u001b[0;34m(\u001b[0m\u001b[0ma\u001b[0m\u001b[0;34m,\u001b[0m\u001b[0me\u001b[0m\u001b[0;34m,\u001b[0m\u001b[0;34m'modelstore'\u001b[0m\u001b[0;34m)\u001b[0m\u001b[0;34m\u001b[0m\u001b[0;34m\u001b[0m\u001b[0m\n",
      "\u001b[0;31mNameError\u001b[0m: name 'make_marker_array' is not defined"
     ]
    }
   ],
   "source": [
    "import matplotlib\n",
    "\n",
    "#Plot-1 Performance\n",
    "\n",
    "figs = {}\n",
    "\n",
    "SMALL_SIZE = 20\n",
    "MEDIUM_SIZE = 25\n",
    "BIGGER_SIZE = 35\n",
    "\n",
    "data_names = [\"Electricity\", \"Airlines\",  \"IMDB\", \"Vehicle\", \"SEA - High Abrupt Drift\", \"HYPERPLANE - High Gradual Drift\",\n",
    "              \"SEA - High Mixed Drift\"]\n",
    "\n",
    "\n",
    "#     figs[d].savefig(\"/Users/prabhant/OpenML/gama/Results_AutOL/Performance_Data\"+str(d)+\".png\")\n",
    "\n",
    "\n",
    "\n",
    "    #For lines of drift and retraining in second plot\n",
    "\n",
    "    # if os.path.getsize(\"/Users/prabhant/OpenML/gama/Results_AutOL/Grace/Retrainings_Output_\"+ str(d)+\".txt\") > 0:\n",
    "    #     i=0\n",
    "    #     for xc in retrainings[\"AutOL_Ensemble_Data_\" + str(d)]['Batch number']:\n",
    "    #         if retrainings[\"AutOL_Ensemble_Data_\" + str(d)]['Type'].iloc[i] == \"Change\":\n",
    "    #             ax.axvline(x=xc, linestyle=':', color='b')\n",
    "    #         else:\n",
    "    #             ax.axvline(x=xc, linestyle='solid', color='b')\n",
    "    #         i=i+1\n",
    "    #\n",
    "    # if os.path.getsize(\"/Users/prabhant/OpenML/gama/Results_AutOL/Grace/Retrainings_Output_\"+ str(d+1)+\".txt\") > 0:\n",
    "    #     i=0\n",
    "    #     for xc in retrainings[\"AutOL_Ensemble_Data_\" + str(d+1)]['Batch number']:\n",
    "    #         if retrainings[\"AutOL_Ensemble_Data_\" + str(d+1)]['Type'].iloc[i] == \"Change\":\n",
    "    #             ax.axvline(x=xc, linestyle=':', color='r')\n",
    "    #         else:\n",
    "    #             ax.axvline(x=xc, linestyle='solid', color='r')\n",
    "    #         i=i+1\n",
    "\n",
    "\n",
    "for d in [4, 5, 6]:\n",
    "    ### Marker basic\n",
    "    a = retrainings['AutOL_Data_'+str(d)]\n",
    "    e = results[\"AutOL_Data_\" + str(d)]['basic']['Batch number']\n",
    "    markonb = make_marker_array(a,e,'basic')\n",
    "    markone = make_marker_array(a,e,'ensemble')\n",
    "    markonm = make_marker_array(a,e,'modelstore')\n",
    "    ##############################################################\n",
    "    plt.rcParams[\"figure.figsize\"] = (25, 20)\n",
    "    plt.rcParams[\"axes.labelsize\"] = ('x-large')\n",
    "    figs[d] = plt.figure()\n",
    "    figs[d], ax = plt.subplots(1, 1, sharex='col', sharey='row', constrained_layout=True)\n",
    "\n",
    "    ax.set(xlabel=\"Batch #\", ylabel=\"Accuracy\")\n",
    "    ax.grid(linestyle='--', linewidth=1)\n",
    "\n",
    "    ax.set_title('AutOL Prequential Performance - Data '+data_names[int(d/10)])\n",
    "\n",
    "    #Plot performance lines of each version\n",
    "    # basic\n",
    "    l0 = ax.plot(results[\"AutOL_Data_\" + str(d)]['basic']['Batch number'],\n",
    "                    results[\"AutOL_Data_\" + str(d)]['basic']['Test score'],\n",
    "                 'o',markeredgewidth=20 ,markerfacecolor='red',ls='-', ms=4, markevery=markonb,\n",
    "                    label='AutOL - Basic', lw=4, color='b')\n",
    "    #ensemble\n",
    "    l1 = ax.plot(results[\"AutOL_Data_\" + str(d)]['ensemble']['Batch number'],\n",
    "                    results[\"AutOL_Data_\" + str(d)]['ensemble']['Test score'],\n",
    "                    'o',markeredgewidth=20 ,markerfacecolor='red',ls='-', ms=4, markevery=markone,\n",
    "                    label='AutOL - Ensemble', lw=4, color='r')\n",
    "    #model store\n",
    "    l2 = ax.plot(results[\"AutOL_Data_\" + str(d)]['modelstore']['Batch number'],\n",
    "                    results[\"AutOL_Data_\" + str(d)]['modelstore']['Test score'],\n",
    "                    'o',markeredgewidth=20 ,markerfacecolor='red',ls='-', ms=4, markevery=markonm,\n",
    "                    label='AutOL - Model Store', lw=4, color='g')\n",
    "\n",
    "\n",
    "    handles, labels = ax.get_legend_handles_labels()\n",
    "    plt.legend(handles, labels,\n",
    "               loc='upper center',\n",
    "               bbox_to_anchor=(0.5, -0.2),\n",
    "               ncol=1,\n",
    "               borderaxespad=0.1,\n",
    "               title=\"Options\",\n",
    "               prop={'size': 30})\n",
    "    #plt.yticks(np.arange(results[\"AutOL_Ensemble_Data_\" + str(d)]['Test score'], results[\"AutOL_Ensemble_Data_\" + str(d)]['Test score']+0.1, 0.1))\n",
    "\n",
    "    plt.plot()\n",
    "    figs[d].show()"
   ]
  },
  {
   "cell_type": "code",
   "execution_count": 91,
   "metadata": {},
   "outputs": [],
   "source": [
    "e = results[\"AutOL_Data_\" + str(d)]['basic']['Batch number']\n",
    "both = set(c).intersection(e)"
   ]
  },
  {
   "cell_type": "code",
   "execution_count": 125,
   "metadata": {},
   "outputs": [
    {
     "data": {
      "text/plain": [
       "{'basic':     Batch number    Type\n",
       " 0          55001      No\n",
       " 1          67239  Change\n",
       " 2          68246  Change\n",
       " 3          69315  Change\n",
       " 4          70820  Change\n",
       " 5          72055  Change\n",
       " 6          73192  Change\n",
       " 7          74286  Change\n",
       " 8          87101  Change\n",
       " 9          88206  Change\n",
       " 10        138207      No\n",
       " 11        188208      No\n",
       " 12        238209      No\n",
       " 13        288210      No\n",
       " 14        338211      No\n",
       " 15        388212      No\n",
       " 16        438213      No\n",
       " 17        488214      No,\n",
       " 'ensemble':    Batch number    Type Model update\n",
       " 0         14266  Change       AutoML\n",
       " 1         15926  Change       AutoML,\n",
       " 'modelstore':     Batch number    Type Model update\n",
       " 0           7083  Change       AutoML\n",
       " 1           8537  Change       AutoML\n",
       " 2          58538      No       AutoML\n",
       " 3         108539      No       AutoML\n",
       " 4         158540      No       AutoML\n",
       " 5         208541      No    Ensemble.\n",
       " 6         258542      No       AutoML\n",
       " 7         308543      No       AutoML\n",
       " 8         358544      No    Ensemble.\n",
       " 9         408545      No    Ensemble.\n",
       " 10        458546      No    Ensemble.}"
      ]
     },
     "execution_count": 125,
     "metadata": {},
     "output_type": "execute_result"
    }
   ],
   "source": [
    "retrainings['AutOL_Data_'+str(5)]"
   ]
  },
  {
   "cell_type": "code",
   "execution_count": 68,
   "metadata": {},
   "outputs": [
    {
     "data": {
      "text/plain": [
       "494"
      ]
     },
     "execution_count": 68,
     "metadata": {},
     "output_type": "execute_result"
    }
   ],
   "source": [
    "len(results[\"AutOL_Data_\" + str(d)]['basic']['Batch number'])"
   ]
  },
  {
   "cell_type": "code",
   "execution_count": 81,
   "metadata": {},
   "outputs": [],
   "source": [
    "import math\n",
    "r = []\n",
    "for j in c:\n",
    "    i = math.ceil(j/1000)*1000\n",
    "    r.append(i)\n",
    "# def roundup(x):\n",
    "#      return int(math.ceil(x / 100.0)) * 100"
   ]
  },
  {
   "cell_type": "code",
   "execution_count": 70,
   "metadata": {},
   "outputs": [
    {
     "data": {
      "text/plain": [
       "0        6000\n",
       "1        7000\n",
       "2        8000\n",
       "3        9000\n",
       "4       10000\n",
       "        ...  \n",
       "489    495000\n",
       "490    496000\n",
       "491    497000\n",
       "492    498000\n",
       "493    499000\n",
       "Name: Batch number, Length: 494, dtype: int64"
      ]
     },
     "execution_count": 70,
     "metadata": {},
     "output_type": "execute_result"
    }
   ],
   "source": [
    "results[\"AutOL_Data_\" + str(d)]['basic']['Batch number']"
   ]
  },
  {
   "cell_type": "code",
   "execution_count": 92,
   "metadata": {},
   "outputs": [],
   "source": [
    "both = set(r).intersection(e)"
   ]
  },
  {
   "cell_type": "code",
   "execution_count": 96,
   "metadata": {},
   "outputs": [],
   "source": [
    "markon = [e.index(x) for x in both]\n"
   ]
  },
  {
   "cell_type": "code",
   "execution_count": 94,
   "metadata": {},
   "outputs": [],
   "source": [
    "e=list(e)"
   ]
  },
  {
   "cell_type": "code",
   "execution_count": 130,
   "metadata": {},
   "outputs": [],
   "source": [
    "def make_marker_array(a,e,choice):\n",
    "    b= a[choice]\n",
    "    c = list(b['Batch number'])\n",
    "    r = []\n",
    "    for j in c:\n",
    "        i = math.ceil(j/1000)*1000\n",
    "        r.append(i)\n",
    "    both = set(r).intersection(e)\n",
    "    e=list(e)\n",
    "    markon = [e.index(x) for x in both]\n",
    "    return markon"
   ]
  },
  {
   "cell_type": "code",
   "execution_count": null,
   "metadata": {},
   "outputs": [],
   "source": []
  }
 ],
 "metadata": {
  "kernelspec": {
   "display_name": "Python 3",
   "language": "python",
   "name": "python3"
  },
  "language_info": {
   "codemirror_mode": {
    "name": "ipython",
    "version": 3
   },
   "file_extension": ".py",
   "mimetype": "text/x-python",
   "name": "python",
   "nbconvert_exporter": "python",
   "pygments_lexer": "ipython3",
   "version": "3.7.7"
  }
 },
 "nbformat": 4,
 "nbformat_minor": 4
}
